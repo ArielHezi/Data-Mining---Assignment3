{
 "cells": [
  {
   "cell_type": "markdown",
   "id": "fb8d02e5",
   "metadata": {},
   "source": [
    "# Assignment 3"
   ]
  },
  {
   "cell_type": "code",
   "execution_count": 51,
   "id": "abc24a7e",
   "metadata": {
    "scrolled": true
   },
   "outputs": [],
   "source": [
    "import pandas as pd\n",
    "import requests\n",
    "import urllib.request, urllib.parse, urllib.error\n",
    "import re\n",
    "from datetime import timedelta\n",
    "\n",
    "api_key = 'AIzaSyCYNp4jA________vdO6VSklFq_UnJI'"
   ]
  },
  {
   "cell_type": "code",
   "execution_count": 52,
   "id": "7bdb241b",
   "metadata": {},
   "outputs": [],
   "source": [
    "# read the text file into a dataframe\n",
    "df = pd.read_csv(\"C:/Users/ariel/Desktop/מטלה 3/dests.txt\", header = None)\n",
    "df.columns = ['Target']"
   ]
  },
  {
   "cell_type": "code",
   "execution_count": 53,
   "id": "031cc292",
   "metadata": {},
   "outputs": [],
   "source": [
    "def Distance_Duration(destination):\n",
    "    serviceurl=\"https://maps.googleapis.com/maps/api/distancematrix/json?\"\n",
    "    parms = dict() \n",
    "    parms['origins'] = 'Tel Aviv'\n",
    "    parms['destinations'] = destination\n",
    "    parms['key'] = api_key\n",
    "    url = serviceurl + urllib.parse.urlencode(parms)\n",
    "    \n",
    "    try:\n",
    "        response = requests.get(url)\n",
    "        if not response.status_code == 200:\n",
    "            print(\"HTTP error\",response.status_code)\n",
    "        else:\n",
    "            try:\n",
    "                response_data = response.json()\n",
    "                return (response_data['rows'][0]['elements'][0]['distance']['text'],\n",
    "                        response_data['rows'][0]['elements'][0]['duration']['text'])\n",
    "                      \n",
    "            except:\n",
    "                print(\"Response not in valid JSON format\")\n",
    "    except:\n",
    "        print(\"Something went wrong with requests.get\")\n",
    "  \n",
    "\n"
   ]
  },
  {
   "cell_type": "code",
   "execution_count": 54,
   "id": "f0514375",
   "metadata": {},
   "outputs": [],
   "source": [
    "def get_lat_lng(destination):\n",
    "    url=\"https://maps.googleapis.com/maps/api/geocode/json?address=%s&key=%s\" % (destination,api_key)\n",
    "    try:\n",
    "        response = requests.get(url)\n",
    "        if not response.status_code == 200:\n",
    "            print(\"HTTP error\",response.status_code)\n",
    "        else:\n",
    "            try:\n",
    "                response_data = response.json()\n",
    "                \n",
    "                return (response_data['results'][0][\"geometry\"][\"location\"][\"lng\"],\n",
    "                       response_data['results'][0][\"geometry\"][\"location\"][\"lat\"])\n",
    "\n",
    "            except:\n",
    "                print(\"Response not in valid JSON format\")\n",
    "    except:\n",
    "        print(\"Something went wrong with requests.get\")"
   ]
  },
  {
   "cell_type": "code",
   "execution_count": 55,
   "id": "8d6051fc",
   "metadata": {
    "scrolled": true
   },
   "outputs": [],
   "source": [
    "def get_info_row(row):\n",
    "    # call your function to get the distance, duration, longitude, and latitude for the target in the row\n",
    "    distance, duration = Distance_Duration(row['Target'])\n",
    "    longitude, latitude = get_lat_lng(row['Target'])\n",
    "    \n",
    "    # return a Series with the distance, duration, longitude, and latitude\n",
    "    return pd.Series({'Distance_km': distance, 'Duration (hour + minutes)': duration, 'Longitude': longitude, 'Latitude': latitude})\n",
    "\n",
    "# apply the get_distance_info_row function to each row of the Target column, and concatenate the results with the original dataframe\n",
    "df = pd.concat([df, df.apply(get_info_row, axis=1)], axis=1)\n"
   ]
  },
  {
   "cell_type": "code",
   "execution_count": 56,
   "id": "b7816231",
   "metadata": {
    "scrolled": false
   },
   "outputs": [],
   "source": [
    "def convert_duration_to_hours_minutes(duration):\n",
    "    duration_parts = duration.split()\n",
    "    days = hours = minutes = 0\n",
    "    for i in range(len(duration_parts)):\n",
    "        if duration_parts[i] == 'days' or duration_parts[i] == 'day':\n",
    "            days = int(duration_parts[i-1])\n",
    "        elif duration_parts[i] == 'hours' or duration_parts[i] == 'hour':\n",
    "            hours = int(duration_parts[i-1])\n",
    "        elif duration_parts[i] == 'mins' or duration_parts[i] == 'min':\n",
    "            minutes = int(duration_parts[i-1])\n",
    "    total_seconds = timedelta(days=days, hours=hours, minutes=minutes).total_seconds()\n",
    "    hours = int(total_seconds // 3600)\n",
    "    minutes = int(total_seconds % 3600 // 60)\n",
    "    return f\"{hours} hours {minutes} minutes\"\n"
   ]
  },
  {
   "cell_type": "code",
   "execution_count": 57,
   "id": "2c897340",
   "metadata": {},
   "outputs": [
    {
     "data": {
      "text/html": [
       "<div>\n",
       "<style scoped>\n",
       "    .dataframe tbody tr th:only-of-type {\n",
       "        vertical-align: middle;\n",
       "    }\n",
       "\n",
       "    .dataframe tbody tr th {\n",
       "        vertical-align: top;\n",
       "    }\n",
       "\n",
       "    .dataframe thead th {\n",
       "        text-align: right;\n",
       "    }\n",
       "</style>\n",
       "<table border=\"1\" class=\"dataframe\">\n",
       "  <thead>\n",
       "    <tr style=\"text-align: right;\">\n",
       "      <th></th>\n",
       "      <th>Target</th>\n",
       "      <th>Distance_km</th>\n",
       "      <th>Duration (hour + minutes)</th>\n",
       "      <th>Longitude</th>\n",
       "      <th>Latitude</th>\n",
       "    </tr>\n",
       "  </thead>\n",
       "  <tbody>\n",
       "    <tr>\n",
       "      <th>0</th>\n",
       "      <td>Istanbul</td>\n",
       "      <td>1,815 km</td>\n",
       "      <td>21 hours 3 minutes</td>\n",
       "      <td>28.978359</td>\n",
       "      <td>41.008238</td>\n",
       "    </tr>\n",
       "    <tr>\n",
       "      <th>1</th>\n",
       "      <td>Amsterdam</td>\n",
       "      <td>4,533 km</td>\n",
       "      <td>48 hours 0 minutes</td>\n",
       "      <td>4.904139</td>\n",
       "      <td>52.367573</td>\n",
       "    </tr>\n",
       "    <tr>\n",
       "      <th>2</th>\n",
       "      <td>Valletta</td>\n",
       "      <td>3,793 km</td>\n",
       "      <td>51 hours 0 minutes</td>\n",
       "      <td>14.514100</td>\n",
       "      <td>35.899237</td>\n",
       "    </tr>\n",
       "    <tr>\n",
       "      <th>3</th>\n",
       "      <td>Basel</td>\n",
       "      <td>4,093 km</td>\n",
       "      <td>44 hours 0 minutes</td>\n",
       "      <td>7.588576</td>\n",
       "      <td>47.559599</td>\n",
       "    </tr>\n",
       "    <tr>\n",
       "      <th>4</th>\n",
       "      <td>Doha</td>\n",
       "      <td>2,164 km</td>\n",
       "      <td>22 hours 39 minutes</td>\n",
       "      <td>51.531040</td>\n",
       "      <td>25.285447</td>\n",
       "    </tr>\n",
       "  </tbody>\n",
       "</table>\n",
       "</div>"
      ],
      "text/plain": [
       "      Target Distance_km Duration (hour + minutes)  Longitude   Latitude\n",
       "0   Istanbul    1,815 km        21 hours 3 minutes  28.978359  41.008238\n",
       "1  Amsterdam    4,533 km        48 hours 0 minutes   4.904139  52.367573\n",
       "2   Valletta    3,793 km        51 hours 0 minutes  14.514100  35.899237\n",
       "3      Basel    4,093 km        44 hours 0 minutes   7.588576  47.559599\n",
       "4       Doha    2,164 km       22 hours 39 minutes  51.531040  25.285447"
      ]
     },
     "execution_count": 57,
     "metadata": {},
     "output_type": "execute_result"
    }
   ],
   "source": [
    "df['Duration (hour + minutes)'] = df['Duration (hour + minutes)'].apply(convert_duration_to_hours_minutes)\n",
    "df"
   ]
  },
  {
   "cell_type": "markdown",
   "id": "aa902209",
   "metadata": {},
   "source": [
    "## 3 Cities Furthest From Tel Aviv - From Top to Bottom "
   ]
  },
  {
   "cell_type": "code",
   "execution_count": 58,
   "id": "403bd929",
   "metadata": {},
   "outputs": [
    {
     "data": {
      "text/html": [
       "<div>\n",
       "<style scoped>\n",
       "    .dataframe tbody tr th:only-of-type {\n",
       "        vertical-align: middle;\n",
       "    }\n",
       "\n",
       "    .dataframe tbody tr th {\n",
       "        vertical-align: top;\n",
       "    }\n",
       "\n",
       "    .dataframe thead th {\n",
       "        text-align: right;\n",
       "    }\n",
       "</style>\n",
       "<table border=\"1\" class=\"dataframe\">\n",
       "  <thead>\n",
       "    <tr style=\"text-align: right;\">\n",
       "      <th></th>\n",
       "      <th>Target</th>\n",
       "      <th>Distance_km</th>\n",
       "      <th>Duration (hour + minutes)</th>\n",
       "      <th>Longitude</th>\n",
       "      <th>Latitude</th>\n",
       "    </tr>\n",
       "  </thead>\n",
       "  <tbody>\n",
       "    <tr>\n",
       "      <th>1</th>\n",
       "      <td>Amsterdam</td>\n",
       "      <td>4533</td>\n",
       "      <td>48 hours 0 minutes</td>\n",
       "      <td>4.904139</td>\n",
       "      <td>52.367573</td>\n",
       "    </tr>\n",
       "    <tr>\n",
       "      <th>2</th>\n",
       "      <td>Basel</td>\n",
       "      <td>4093</td>\n",
       "      <td>44 hours 0 minutes</td>\n",
       "      <td>7.588576</td>\n",
       "      <td>47.559599</td>\n",
       "    </tr>\n",
       "    <tr>\n",
       "      <th>3</th>\n",
       "      <td>Valletta</td>\n",
       "      <td>3793</td>\n",
       "      <td>51 hours 0 minutes</td>\n",
       "      <td>14.514100</td>\n",
       "      <td>35.899237</td>\n",
       "    </tr>\n",
       "  </tbody>\n",
       "</table>\n",
       "</div>"
      ],
      "text/plain": [
       "      Target  Distance_km Duration (hour + minutes)  Longitude   Latitude\n",
       "1  Amsterdam         4533        48 hours 0 minutes   4.904139  52.367573\n",
       "2      Basel         4093        44 hours 0 minutes   7.588576  47.559599\n",
       "3   Valletta         3793        51 hours 0 minutes  14.514100  35.899237"
      ]
     },
     "execution_count": 58,
     "metadata": {},
     "output_type": "execute_result"
    }
   ],
   "source": [
    "def convert (Distance):\n",
    "    pattern = r\"[^0-9.]\"\n",
    "    return re.sub(pattern, \"\", Distance)\n",
    "df['Distance_km'] = df['Distance_km'].apply(convert) \n",
    "# convert 'Distance_km' column to a numeric data type\n",
    "df['Distance_km'] = pd.to_numeric(df['Distance_km'])\n",
    "\n",
    "top_three = df.nlargest(3, 'Distance_km').reset_index(drop=True)\n",
    "top_three.index = top_three.index + 1\n",
    "top_three"
   ]
  }
 ],
 "metadata": {
  "kernelspec": {
   "display_name": "Python 3 (ipykernel)",
   "language": "python",
   "name": "python3"
  },
  "language_info": {
   "codemirror_mode": {
    "name": "ipython",
    "version": 3
   },
   "file_extension": ".py",
   "mimetype": "text/x-python",
   "name": "python",
   "nbconvert_exporter": "python",
   "pygments_lexer": "ipython3",
   "version": "3.9.13"
  }
 },
 "nbformat": 4,
 "nbformat_minor": 5
}
