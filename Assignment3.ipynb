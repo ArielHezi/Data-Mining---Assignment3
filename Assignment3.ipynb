{
 "cells": [
  {
   "cell_type": "markdown",
   "id": "fb8d02e5",
   "metadata": {},
   "source": [
    "# Assignment 3"
   ]
  },
  {
   "cell_type": "code",
   "execution_count": 120,
   "id": "abc24a7e",
   "metadata": {
    "scrolled": true
   },
   "outputs": [],
   "source": [
    "import pandas as pd\n",
    "import requests\n",
    "import urllib.request, urllib.parse, urllib.error\n",
    "import re\n",
    "from datetime import timedelta\n",
    "\n",
    "api_key = 'AIzaSyCYNp4jAj_________6VSklFq_UnJI'"
   ]
  },
  {
   "cell_type": "code",
   "execution_count": 121,
   "id": "7bdb241b",
   "metadata": {},
   "outputs": [],
   "source": [
    "# read the text file into a dataframe\n",
    "df = pd.read_csv(\"C:/Users/ariel/Desktop/מטלה 3/dests.txt\", header = None)\n",
    "df.columns = ['Target']"
   ]
  },
  {
   "cell_type": "code",
   "execution_count": 122,
   "id": "031cc292",
   "metadata": {},
   "outputs": [],
   "source": [
    "def Distance_Duration(destination):\n",
    "    serviceurl=\"https://maps.googleapis.com/maps/api/distancematrix/json?\"\n",
    "    parms = dict() \n",
    "    parms['origins'] = 'Tel Aviv'\n",
    "    parms['destinations'] = destination\n",
    "    parms['key'] = api_key\n",
    "    url = serviceurl + urllib.parse.urlencode(parms)\n",
    "    \n",
    "    try:\n",
    "        response = requests.get(url)\n",
    "        if not response.status_code == 200:\n",
    "            print(\"HTTP error\",response.status_code)\n",
    "        else:\n",
    "            try:\n",
    "                response_data = response.json()\n",
    "                seconds = response_data['rows'][0]['elements'][0]['duration']['value']\n",
    "                minutes = (seconds//60)%60\n",
    "                hours = (seconds//3600)\n",
    "                text = str(hours) + ' hours ' + str(minutes) + ' minutes ' \n",
    "                return (response_data['rows'][0]['elements'][0]['distance']['value']/1000, text)\n",
    "\n",
    "            \n",
    "                      \n",
    "            except:\n",
    "                print(\"Response not in valid JSON format\")\n",
    "    except:\n",
    "        print(\"Something went wrong with requests.get\")\n",
    "  \n",
    "\n"
   ]
  },
  {
   "cell_type": "code",
   "execution_count": 123,
   "id": "f0514375",
   "metadata": {},
   "outputs": [],
   "source": [
    "def get_lat_lng(destination):\n",
    "    url=\"https://maps.googleapis.com/maps/api/geocode/json?address=%s&key=%s\" % (destination,api_key)\n",
    "    try:\n",
    "        response = requests.get(url)\n",
    "        if not response.status_code == 200:\n",
    "            print(\"HTTP error\",response.status_code)\n",
    "        else:\n",
    "            try:\n",
    "                response_data = response.json()\n",
    "                \n",
    "                return (response_data['results'][0][\"geometry\"][\"location\"][\"lng\"],\n",
    "                       response_data['results'][0][\"geometry\"][\"location\"][\"lat\"])\n",
    "\n",
    "            except:\n",
    "                print(\"Response not in valid JSON format\")\n",
    "    except:\n",
    "        print(\"Something went wrong with requests.get\")"
   ]
  },
  {
   "cell_type": "code",
   "execution_count": 124,
   "id": "8d6051fc",
   "metadata": {
    "scrolled": true
   },
   "outputs": [],
   "source": [
    "def get_info_row(row):\n",
    "    # call your function to get the distance, duration, longitude, and latitude for the target in the row\n",
    "    distance, duration = Distance_Duration(row['Target'])\n",
    "    longitude, latitude = get_lat_lng(row['Target'])\n",
    "    \n",
    "    # return a Series with the distance, duration, longitude, and latitude\n",
    "    return pd.Series({'Distance_km': distance, 'Duration (hour + minutes)': duration, 'Longitude': longitude, 'Latitude': latitude})\n",
    "\n",
    "# apply the get_distance_info_row function to each row of the Target column, and concatenate the results with the original dataframe\n",
    "df = pd.concat([df, df.apply(get_info_row, axis=1)], axis=1)\n"
   ]
  },
  {
   "cell_type": "code",
   "execution_count": 125,
   "id": "2c897340",
   "metadata": {},
   "outputs": [
    {
     "data": {
      "text/html": [
       "<div>\n",
       "<style scoped>\n",
       "    .dataframe tbody tr th:only-of-type {\n",
       "        vertical-align: middle;\n",
       "    }\n",
       "\n",
       "    .dataframe tbody tr th {\n",
       "        vertical-align: top;\n",
       "    }\n",
       "\n",
       "    .dataframe thead th {\n",
       "        text-align: right;\n",
       "    }\n",
       "</style>\n",
       "<table border=\"1\" class=\"dataframe\">\n",
       "  <thead>\n",
       "    <tr style=\"text-align: right;\">\n",
       "      <th></th>\n",
       "      <th>Target</th>\n",
       "      <th>Distance_km</th>\n",
       "      <th>Duration (hour + minutes)</th>\n",
       "      <th>Longitude</th>\n",
       "      <th>Latitude</th>\n",
       "    </tr>\n",
       "  </thead>\n",
       "  <tbody>\n",
       "    <tr>\n",
       "      <th>0</th>\n",
       "      <td>Istanbul</td>\n",
       "      <td>1815.227</td>\n",
       "      <td>21 hours 2 minutes</td>\n",
       "      <td>28.978359</td>\n",
       "      <td>41.008238</td>\n",
       "    </tr>\n",
       "    <tr>\n",
       "      <th>1</th>\n",
       "      <td>Amsterdam</td>\n",
       "      <td>4532.541</td>\n",
       "      <td>48 hours 3 minutes</td>\n",
       "      <td>4.904139</td>\n",
       "      <td>52.367573</td>\n",
       "    </tr>\n",
       "    <tr>\n",
       "      <th>2</th>\n",
       "      <td>Valletta</td>\n",
       "      <td>3792.883</td>\n",
       "      <td>50 hours 52 minutes</td>\n",
       "      <td>14.514100</td>\n",
       "      <td>35.899237</td>\n",
       "    </tr>\n",
       "    <tr>\n",
       "      <th>3</th>\n",
       "      <td>Basel</td>\n",
       "      <td>4092.805</td>\n",
       "      <td>44 hours 2 minutes</td>\n",
       "      <td>7.588576</td>\n",
       "      <td>47.559599</td>\n",
       "    </tr>\n",
       "    <tr>\n",
       "      <th>4</th>\n",
       "      <td>Doha</td>\n",
       "      <td>2164.477</td>\n",
       "      <td>22 hours 38 minutes</td>\n",
       "      <td>51.531040</td>\n",
       "      <td>25.285447</td>\n",
       "    </tr>\n",
       "  </tbody>\n",
       "</table>\n",
       "</div>"
      ],
      "text/plain": [
       "      Target  Distance_km Duration (hour + minutes)  Longitude   Latitude\n",
       "0   Istanbul     1815.227       21 hours 2 minutes   28.978359  41.008238\n",
       "1  Amsterdam     4532.541       48 hours 3 minutes    4.904139  52.367573\n",
       "2   Valletta     3792.883      50 hours 52 minutes   14.514100  35.899237\n",
       "3      Basel     4092.805       44 hours 2 minutes    7.588576  47.559599\n",
       "4       Doha     2164.477      22 hours 38 minutes   51.531040  25.285447"
      ]
     },
     "execution_count": 125,
     "metadata": {},
     "output_type": "execute_result"
    }
   ],
   "source": [
    "df"
   ]
  },
  {
   "cell_type": "markdown",
   "id": "aa902209",
   "metadata": {},
   "source": [
    "## 3 Cities Furthest From Tel Aviv - From Top to Bottom "
   ]
  },
  {
   "cell_type": "code",
   "execution_count": 126,
   "id": "403bd929",
   "metadata": {},
   "outputs": [
    {
     "data": {
      "text/html": [
       "<div>\n",
       "<style scoped>\n",
       "    .dataframe tbody tr th:only-of-type {\n",
       "        vertical-align: middle;\n",
       "    }\n",
       "\n",
       "    .dataframe tbody tr th {\n",
       "        vertical-align: top;\n",
       "    }\n",
       "\n",
       "    .dataframe thead th {\n",
       "        text-align: right;\n",
       "    }\n",
       "</style>\n",
       "<table border=\"1\" class=\"dataframe\">\n",
       "  <thead>\n",
       "    <tr style=\"text-align: right;\">\n",
       "      <th></th>\n",
       "      <th>Target</th>\n",
       "      <th>Distance_km</th>\n",
       "      <th>Duration (hour + minutes)</th>\n",
       "      <th>Longitude</th>\n",
       "      <th>Latitude</th>\n",
       "    </tr>\n",
       "  </thead>\n",
       "  <tbody>\n",
       "    <tr>\n",
       "      <th>1</th>\n",
       "      <td>Amsterdam</td>\n",
       "      <td>4532.541</td>\n",
       "      <td>48 hours 3 minutes</td>\n",
       "      <td>4.904139</td>\n",
       "      <td>52.367573</td>\n",
       "    </tr>\n",
       "    <tr>\n",
       "      <th>2</th>\n",
       "      <td>Basel</td>\n",
       "      <td>4092.805</td>\n",
       "      <td>44 hours 2 minutes</td>\n",
       "      <td>7.588576</td>\n",
       "      <td>47.559599</td>\n",
       "    </tr>\n",
       "    <tr>\n",
       "      <th>3</th>\n",
       "      <td>Valletta</td>\n",
       "      <td>3792.883</td>\n",
       "      <td>50 hours 52 minutes</td>\n",
       "      <td>14.514100</td>\n",
       "      <td>35.899237</td>\n",
       "    </tr>\n",
       "  </tbody>\n",
       "</table>\n",
       "</div>"
      ],
      "text/plain": [
       "      Target  Distance_km Duration (hour + minutes)  Longitude   Latitude\n",
       "1  Amsterdam     4532.541       48 hours 3 minutes    4.904139  52.367573\n",
       "2      Basel     4092.805       44 hours 2 minutes    7.588576  47.559599\n",
       "3   Valletta     3792.883      50 hours 52 minutes   14.514100  35.899237"
      ]
     },
     "execution_count": 126,
     "metadata": {},
     "output_type": "execute_result"
    }
   ],
   "source": [
    "top_three = df.nlargest(3, 'Distance_km').reset_index(drop=True)\n",
    "top_three.index = top_three.index + 1\n",
    "top_three"
   ]
  }
 ],
 "metadata": {
  "kernelspec": {
   "display_name": "Python 3 (ipykernel)",
   "language": "python",
   "name": "python3"
  },
  "language_info": {
   "codemirror_mode": {
    "name": "ipython",
    "version": 3
   },
   "file_extension": ".py",
   "mimetype": "text/x-python",
   "name": "python",
   "nbconvert_exporter": "python",
   "pygments_lexer": "ipython3",
   "version": "3.9.13"
  }
 },
 "nbformat": 4,
 "nbformat_minor": 5
}
